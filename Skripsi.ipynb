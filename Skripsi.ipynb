{
 "cells": [
  {
   "cell_type": "markdown",
   "metadata": {},
   "source": [
    "# Implementasi Convulational Neural Network Pada Pengenalan Tulisan Tangan Aksara Sunda"
   ]
  },
  {
   "cell_type": "markdown",
   "metadata": {},
   "source": [
    "_**Ridho (1610631170181) - Universitas Singaperbangsa Karawang**_"
   ]
  },
  {
   "cell_type": "markdown",
   "metadata": {},
   "source": [
    "Notebook ini merupakan demo dari proses pengenalan aksara sunda menggunakan convolutional neural network."
   ]
  },
  {
   "cell_type": "code",
   "execution_count": 1,
   "metadata": {},
   "outputs": [],
   "source": [
    "import glob\n",
    "import numpy as np\n",
    "import pandas as pd \n",
    "import os\n",
    "import tensorflow as tf\n",
    "from tensorflow.keras.preprocessing.image import load_img, img_to_array\n",
    "import PIL.ImageOps as ImOps"
   ]
  },
  {
   "cell_type": "markdown",
   "metadata": {},
   "source": [
    "## Preproccesing\n",
    "Tahap ini mengubah data gambar kedalam bentuk array serta melakukan resize dan normalisasi"
   ]
  },
  {
   "cell_type": "code",
   "execution_count": 2,
   "metadata": {},
   "outputs": [],
   "source": [
    "def prepare_dataset(path):\n",
    "    x_train=[]\n",
    "    y_train=[]\n",
    "    label = 0\n",
    "    for labels in os.listdir(path):\n",
    "        if labels == 'ka':\n",
    "            label = 0\n",
    "        elif labels == 'ca':\n",
    "            label = 1\n",
    "        elif labels == 'ta':\n",
    "            label = 2\n",
    "        elif labels == 'pa':\n",
    "            label = 3\n",
    "        elif labels == 'ya':\n",
    "            label = 4\n",
    "        elif labels == 'wa':\n",
    "            label = 5\n",
    "        elif labels == 'ga':\n",
    "            label = 6\n",
    "        elif labels == 'ja':\n",
    "            label = 7\n",
    "        elif labels == 'da':\n",
    "            label = 8\n",
    "        elif labels == 'ba':\n",
    "            label = 9\n",
    "        elif labels == 'ra':\n",
    "            label = 10\n",
    "        elif labels == 'sa':\n",
    "            label = 11\n",
    "        elif labels == 'nga':\n",
    "            label = 12\n",
    "        elif labels == 'nya':\n",
    "            label = 13\n",
    "        elif labels == 'na':\n",
    "            label = 14\n",
    "        elif labels == 'ma':\n",
    "            label = 15\n",
    "        elif labels == 'la':\n",
    "            label = 16\n",
    "        elif labels== 'ha':\n",
    "            label = 17\n",
    "            \n",
    "        all_images_path=glob.glob(path+labels+'/*.jpg')\n",
    "        for img_path in all_images_path :\n",
    "                img=load_img(img_path, target_size=(64,64))\n",
    "                img = ImOps.invert(img)\n",
    "                img=img_to_array(img)\n",
    "                img=img/255.0\n",
    "                x_train.append(img)\n",
    "                y_train.append(label)\n",
    "    return np.array(x_train),np.array(y_train)"
   ]
  },
  {
   "cell_type": "code",
   "execution_count": 3,
   "metadata": {},
   "outputs": [],
   "source": [
    "x_train, y_train = prepare_dataset('train/')\n",
    "x_test, y_test = prepare_dataset('test/')"
   ]
  },
  {
   "cell_type": "code",
   "execution_count": 4,
   "metadata": {},
   "outputs": [
    {
     "name": "stdout",
     "output_type": "stream",
     "text": [
      "Shape x_train : (3780, 64, 64, 3)\n",
      "Shape y_train: (3780,)\n",
      "Shape x_train : (1620, 64, 64, 3)\n",
      "Shape y_train: (1620,)\n"
     ]
    }
   ],
   "source": [
    "print(\"Shape x_train :\",x_train.shape)\n",
    "print(\"Shape y_train:\", y_train.shape)\n",
    "print(\" bShape x_train :\",x_test.shape)\n",
    "print(\"Shape y_train:\", y_test.shape)"
   ]
  },
  {
   "cell_type": "markdown",
   "metadata": {},
   "source": [
    "## Data Augmetation\n",
    "\n",
    "Data augmentasi yang digunakan pada data platihan.\n",
    "- rotasi = 10°\n",
    "- Pergeseran(w,h) = (0.1, 0.1)\n",
    "- Zoom = 0.3"
   ]
  },
  {
   "cell_type": "code",
   "execution_count": 5,
   "metadata": {},
   "outputs": [
    {
     "name": "stderr",
     "output_type": "stream",
     "text": [
      "Using TensorFlow backend.\n"
     ]
    }
   ],
   "source": [
    "from keras.preprocessing.image import ImageDataGenerator\n",
    "\n",
    "datagen = ImageDataGenerator(\n",
    "        rotation_range=10,\n",
    "        width_shift_range=0.1,\n",
    "        height_shift_range=0.1,\n",
    "        zoom_range=0.3,\n",
    "        horizontal_flip=False)\n",
    "\n",
    "datagen.fit(x_train, augment=True)\n",
    "data_test = datagen.flow(x_train, y_train, batch_size=5)"
   ]
  },
  {
   "cell_type": "code",
   "execution_count": 6,
   "metadata": {},
   "outputs": [
    {
     "name": "stdout",
     "output_type": "stream",
     "text": [
      "Train Augmetasi Data\n"
     ]
    },
    {
     "data": {
      "image/png": "[encoded data removed]",
      "text/plain": [
       "<Figure size 432x288 with 9 Axes>"
      ]
     },
     "metadata": {
      "needs_background": "light"
     },
     "output_type": "display_data"
    }
   ],
   "source": [
    "from numpy import expand_dims\n",
    "import matplotlib.pyplot as plt\n",
    "\n",
    "img = x_train[1250]\n",
    "samples = expand_dims(img, 0)\n",
    "it = datagen.flow(samples, batch_size=1)\n",
    "print(\"Train Augmetasi Data\")\n",
    "for i in range(9):\n",
    "    plt.subplot(330 + 1 + i)\n",
    "    batch = it.next()\n",
    "    image = batch[0]\n",
    "    plt.imshow(image)\n",
    "plt.show()"
   ]
  },
  {
   "cell_type": "markdown",
   "metadata": {},
   "source": [
    "# Arsitektur CNN\n",
    "\n",
    "Pada penelitian ini menggunakan 3 arsitektur CNN untuk klasifikasi aksara sunda\n",
    "1. LeNet-5\n",
    "2. Alexnet\n",
    "3. Vgg-16"
   ]
  },
  {
   "cell_type": "markdown",
   "metadata": {},
   "source": [
    "Setiap platihan dilakukan 15 epoch"
   ]
  },
  {
   "cell_type": "markdown",
   "metadata": {},
   "source": [
    "### 1. LeNet-5"
   ]
  },
  {
   "cell_type": "code",
   "execution_count": 7,
   "metadata": {
    "scrolled": false
   },
   "outputs": [
    {
     "name": "stdout",
     "output_type": "stream",
     "text": [
      "Model: \"sequential_1\"\n",
      "_________________________________________________________________\n",
      "Layer (type)                 Output Shape              Param #   \n",
      "=================================================================\n",
      "conv2d_1 (Conv2D)            (None, 60, 60, 6)         456       \n",
      "_________________________________________________________________\n",
      "max_pooling2d_1 (MaxPooling2 (None, 30, 30, 6)         0         \n",
      "_________________________________________________________________\n",
      "conv2d_2 (Conv2D)            (None, 26, 26, 16)        2416      \n",
      "_________________________________________________________________\n",
      "max_pooling2d_2 (MaxPooling2 (None, 13, 13, 16)        0         \n",
      "_________________________________________________________________\n",
      "conv2d_3 (Conv2D)            (None, 9, 9, 120)         48120     \n",
      "_________________________________________________________________\n",
      "flatten_1 (Flatten)          (None, 9720)              0         \n",
      "_________________________________________________________________\n",
      "dense_1 (Dense)              (None, 84)                816564    \n",
      "_________________________________________________________________\n",
      "dense_2 (Dense)              (None, 18)                1530      \n",
      "=================================================================\n",
      "Total params: 869,086\n",
      "Trainable params: 869,086\n",
      "Non-trainable params: 0\n",
      "_________________________________________________________________\n"
     ]
    }
   ],
   "source": [
    "import keras \n",
    "from keras.models import Sequential\n",
    "from keras.layers import Conv2D, Dense, MaxPool2D, Dropout, Flatten\n",
    "from keras.optimizers import Adam\n",
    "\n",
    "def modelLeNet():\n",
    "    model = Sequential()\n",
    "\n",
    "    model.add(Conv2D(6, (5, 5), activation='relu', input_shape=(64,64,3)))\n",
    "    model.add(MaxPool2D(2,2))\n",
    "\n",
    "    model.add(Conv2D(16, (5, 5), activation='relu'))\n",
    "    model.add(MaxPool2D(2,2))\n",
    "    model.add(Conv2D(120, (5, 5), activation='relu'))\n",
    "\n",
    "    model.add(Flatten())\n",
    "\n",
    "    model.add(Dense(84, activation='relu'))\n",
    "\n",
    "    model.add(Dense(18, activation = 'softmax'))\n",
    "    model.compile(optimizer = Adam(lr=0.0001), \n",
    "              loss = 'sparse_categorical_crossentropy', \n",
    "              metrics = ['acc'])\n",
    "    return model\n",
    "\n",
    "modelLeNet().summary()"
   ]
  },
  {
   "cell_type": "code",
   "execution_count": 8,
   "metadata": {},
   "outputs": [],
   "source": [
    "LeNet_Aug = modelLeNet()\n",
    "LeNet_without_Aug = modelLeNet()"
   ]
  },
  {
   "cell_type": "code",
   "execution_count": 9,
   "metadata": {
    "scrolled": true
   },
   "outputs": [
    {
     "name": "stdout",
     "output_type": "stream",
     "text": [
      "Train on 3780 samples, validate on 1620 samples\n",
      "Epoch 1/15\n",
      "3780/3780 [==============================] - 12s 3ms/step - loss: 2.5942 - acc: 0.2254 - val_loss: 2.0765 - val_acc: 0.3796\n",
      "Epoch 2/15\n",
      "3780/3780 [==============================] - 11s 3ms/step - loss: 1.7605 - acc: 0.4709 - val_loss: 1.5243 - val_acc: 0.5265\n",
      "Epoch 3/15\n",
      "3780/3780 [==============================] - 11s 3ms/step - loss: 1.2315 - acc: 0.6365 - val_loss: 1.0632 - val_acc: 0.6809\n",
      "Epoch 4/15\n",
      "3780/3780 [==============================] - 13s 3ms/step - loss: 0.8298 - acc: 0.7585 - val_loss: 0.7568 - val_acc: 0.7753\n",
      "Epoch 5/15\n",
      "3780/3780 [==============================] - 12s 3ms/step - loss: 0.5497 - acc: 0.8394 - val_loss: 0.6397 - val_acc: 0.7895\n",
      "Epoch 6/15\n",
      "3780/3780 [==============================] - 12s 3ms/step - loss: 0.3933 - acc: 0.8868 - val_loss: 0.5646 - val_acc: 0.8265\n",
      "Epoch 7/15\n",
      "3780/3780 [==============================] - 14s 4ms/step - loss: 0.3026 - acc: 0.9106 - val_loss: 0.4488 - val_acc: 0.8537\n",
      "Epoch 8/15\n",
      "3780/3780 [==============================] - 13s 3ms/step - loss: 0.2270 - acc: 0.9347 - val_loss: 0.4040 - val_acc: 0.8722\n",
      "Epoch 9/15\n",
      "3780/3780 [==============================] - 12s 3ms/step - loss: 0.1821 - acc: 0.9495 - val_loss: 0.3635 - val_acc: 0.8914\n",
      "Epoch 10/15\n",
      "3780/3780 [==============================] - 13s 3ms/step - loss: 0.1320 - acc: 0.9627 - val_loss: 0.3453 - val_acc: 0.8969\n",
      "Epoch 11/15\n",
      "3780/3780 [==============================] - 14s 4ms/step - loss: 0.1195 - acc: 0.9704 - val_loss: 0.3659 - val_acc: 0.8988\n",
      "Epoch 12/15\n",
      "3780/3780 [==============================] - 13s 3ms/step - loss: 0.1071 - acc: 0.9664 - val_loss: 0.3610 - val_acc: 0.8932\n",
      "Epoch 13/15\n",
      "3780/3780 [==============================] - 12s 3ms/step - loss: 0.0708 - acc: 0.9833 - val_loss: 0.3239 - val_acc: 0.9099\n",
      "Epoch 14/15\n",
      "3780/3780 [==============================] - 12s 3ms/step - loss: 0.0745 - acc: 0.9802 - val_loss: 0.3031 - val_acc: 0.9142\n",
      "Epoch 15/15\n",
      "3780/3780 [==============================] - 12s 3ms/step - loss: 0.0482 - acc: 0.9910 - val_loss: 0.3076 - val_acc: 0.9123\n"
     ]
    }
   ],
   "source": [
    "history_Lenet = LeNet_without_Aug.fit(x_train,y_train,epochs=15,validation_data=(x_test,y_test))"
   ]
  },
  {
   "cell_type": "code",
   "execution_count": 10,
   "metadata": {
    "scrolled": true
   },
   "outputs": [
    {
     "name": "stdout",
     "output_type": "stream",
     "text": [
      "Epoch 1/15\n",
      "756/756 [==============================] - 29s 38ms/step - loss: 2.6333 - acc: 0.1675 - val_loss: 1.7911 - val_acc: 0.4432\n",
      "Epoch 2/15\n",
      "756/756 [==============================] - 26s 35ms/step - loss: 1.7412 - acc: 0.4553 - val_loss: 0.8514 - val_acc: 0.7710\n",
      "Epoch 3/15\n",
      "756/756 [==============================] - 25s 33ms/step - loss: 1.1248 - acc: 0.6421 - val_loss: 0.4566 - val_acc: 0.8778\n",
      "Epoch 4/15\n",
      "756/756 [==============================] - 26s 34ms/step - loss: 0.8676 - acc: 0.7352 - val_loss: 0.3576 - val_acc: 0.9043\n",
      "Epoch 5/15\n",
      "756/756 [==============================] - 29s 38ms/step - loss: 0.6728 - acc: 0.7937 - val_loss: 0.3358 - val_acc: 0.8926\n",
      "Epoch 6/15\n",
      "756/756 [==============================] - 28s 37ms/step - loss: 0.5554 - acc: 0.8265 - val_loss: 0.1856 - val_acc: 0.9549\n",
      "Epoch 7/15\n",
      "756/756 [==============================] - 25s 33ms/step - loss: 0.4792 - acc: 0.8558 - val_loss: 0.1842 - val_acc: 0.9488\n",
      "Epoch 8/15\n",
      "756/756 [==============================] - 25s 33ms/step - loss: 0.4108 - acc: 0.8765 - val_loss: 0.1346 - val_acc: 0.9636\n",
      "Epoch 9/15\n",
      "756/756 [==============================] - 25s 33ms/step - loss: 0.3786 - acc: 0.8820 - val_loss: 0.1625 - val_acc: 0.9475\n",
      "Epoch 10/15\n",
      "756/756 [==============================] - 25s 33ms/step - loss: 0.3151 - acc: 0.9026 - val_loss: 0.1355 - val_acc: 0.9512\n",
      "Epoch 11/15\n",
      "756/756 [==============================] - 25s 33ms/step - loss: 0.2994 - acc: 0.9074 - val_loss: 0.1545 - val_acc: 0.9494\n",
      "Epoch 12/15\n",
      "756/756 [==============================] - 24s 32ms/step - loss: 0.2918 - acc: 0.9143 - val_loss: 0.0931 - val_acc: 0.9691\n",
      "Epoch 13/15\n",
      "756/756 [==============================] - 25s 32ms/step - loss: 0.2633 - acc: 0.9183 - val_loss: 0.1097 - val_acc: 0.9654\n",
      "Epoch 14/15\n",
      "756/756 [==============================] - 25s 33ms/step - loss: 0.2251 - acc: 0.9333 - val_loss: 0.0872 - val_acc: 0.9735\n",
      "Epoch 15/15\n",
      "756/756 [==============================] - 24s 32ms/step - loss: 0.2128 - acc: 0.9347 - val_loss: 0.0513 - val_acc: 0.9821\n"
     ]
    }
   ],
   "source": [
    "history_Lenet_Aug = LeNet_Aug.fit(data_test,validation_data=(x_test,y_test),\n",
    "          steps_per_epoch=len(x_train)/5, epochs=15)"
   ]
  },
  {
   "cell_type": "code",
   "execution_count": 11,
   "metadata": {},
   "outputs": [
    {
     "data": {
      "image/png": "[encoded data removed]",
      "text/plain": [
       "<Figure size 432x288 with 1 Axes>"
      ]
     },
     "metadata": {
      "needs_background": "light"
     },
     "output_type": "display_data"
    },
    {
     "data": {
      "image/png": "[encoded data removed]",
      "text/plain": [
       "<Figure size 432x288 with 1 Axes>"
      ]
     },
     "metadata": {
      "needs_background": "light"
     },
     "output_type": "display_data"
    }
   ],
   "source": [
    "import matplotlib.pyplot as plt\n",
    "from random import randint\n",
    "import matplotlib.pyplot as plt\n",
    "plt.plot(history_Lenet_Aug.history['val_acc'])\n",
    "plt.plot(history_Lenet.history['val_acc'])\n",
    "plt.title('LeNet 5 Accuracy')\n",
    "plt.ylabel('Accuracy')\n",
    "plt.xlabel('Epoch')\n",
    "plt.legend(['with aug', 'without aug'], loc='upper left')\n",
    "plt.show()\n",
    "\n",
    "plt.plot(history_Lenet_Aug.history['val_loss'])\n",
    "plt.plot(history_Lenet.history['val_loss'])\n",
    "plt.title('LeNet 5 Loss')\n",
    "plt.ylabel('Loss')\n",
    "plt.xlabel('Epoch')\n",
    "plt.legend(['with aug', 'without aug'], loc='upper left')\n",
    "plt.show()"
   ]
  },
  {
   "cell_type": "markdown",
   "metadata": {},
   "source": [
    "### 2. Alexnet"
   ]
  },
  {
   "cell_type": "code",
   "execution_count": 12,
   "metadata": {},
   "outputs": [
    {
     "name": "stdout",
     "output_type": "stream",
     "text": [
      "Model: \"sequential_4\"\n",
      "_________________________________________________________________\n",
      "Layer (type)                 Output Shape              Param #   \n",
      "=================================================================\n",
      "conv2d_10 (Conv2D)           (None, 14, 14, 96)        34944     \n",
      "_________________________________________________________________\n",
      "max_pooling2d_7 (MaxPooling2 (None, 7, 7, 96)          0         \n",
      "_________________________________________________________________\n",
      "conv2d_11 (Conv2D)           (None, 7, 7, 256)         221440    \n",
      "_________________________________________________________________\n",
      "max_pooling2d_8 (MaxPooling2 (None, 3, 3, 256)         0         \n",
      "_________________________________________________________________\n",
      "conv2d_12 (Conv2D)           (None, 3, 3, 384)         885120    \n",
      "_________________________________________________________________\n",
      "conv2d_13 (Conv2D)           (None, 3, 3, 384)         1327488   \n",
      "_________________________________________________________________\n",
      "conv2d_14 (Conv2D)           (None, 3, 3, 256)         884992    \n",
      "_________________________________________________________________\n",
      "max_pooling2d_9 (MaxPooling2 (None, 1, 1, 256)         0         \n",
      "_________________________________________________________________\n",
      "flatten_4 (Flatten)          (None, 256)               0         \n",
      "_________________________________________________________________\n",
      "dense_7 (Dense)              (None, 2048)              526336    \n",
      "_________________________________________________________________\n",
      "dense_8 (Dense)              (None, 2048)              4196352   \n",
      "_________________________________________________________________\n",
      "dropout_1 (Dropout)          (None, 2048)              0         \n",
      "_________________________________________________________________\n",
      "dense_9 (Dense)              (None, 18)                36882     \n",
      "=================================================================\n",
      "Total params: 8,113,554\n",
      "Trainable params: 8,113,554\n",
      "Non-trainable params: 0\n",
      "_________________________________________________________________\n"
     ]
    }
   ],
   "source": [
    "def ALexNet():\n",
    "    model = Sequential()\n",
    "    model.add(Conv2D(96, (11,11), input_shape=(64,64,3), strides=(4,4), activation='relu'))\n",
    "    model.add(MaxPool2D(2,2))\n",
    "    model.add(Conv2D(256, (3,3),  strides=(1,1), padding='same', activation='relu'))\n",
    "    model.add(MaxPool2D(2,2))\n",
    "    model.add(Conv2D(384, (3,3),  strides=(1,1), padding='same',  activation='relu'))\n",
    "    model.add(Conv2D(384, (3,3),  strides=(1,1), padding='same',  activation='relu'))\n",
    "    model.add(Conv2D(256, (3,3),  strides=(1,1), padding='same', activation='relu'))\n",
    "    model.add(MaxPool2D(2,2))\n",
    "    model.add(Flatten())\n",
    "    model.add(Dense(2048, activation='relu'))\n",
    "    model.add(Dense(2048, activation='relu'))\n",
    "    model.add(Dropout(0.4))\n",
    "    model.add(Dense(18, activation='softmax'))\n",
    "\n",
    "    model.compile(optimizer = Adam(lr=0.0001), \n",
    "              loss = 'sparse_categorical_crossentropy', \n",
    "              metrics = ['acc'])\n",
    "    return model\n",
    "ALexNet().summary()"
   ]
  },
  {
   "cell_type": "code",
   "execution_count": 13,
   "metadata": {},
   "outputs": [],
   "source": [
    "ALexNet_no_aug = ALexNet()\n",
    "ALexNet_Aug = ALexNet()"
   ]
  },
  {
   "cell_type": "code",
   "execution_count": 14,
   "metadata": {},
   "outputs": [
    {
     "name": "stdout",
     "output_type": "stream",
     "text": [
      "Train on 3780 samples, validate on 1620 samples\n",
      "Epoch 1/15\n",
      "3780/3780 [==============================] - 46s 12ms/step - loss: 2.6118 - acc: 0.1413 - val_loss: 2.0783 - val_acc: 0.2994\n",
      "Epoch 2/15\n",
      "3780/3780 [==============================] - 46s 12ms/step - loss: 1.7662 - acc: 0.3770 - val_loss: 1.2143 - val_acc: 0.5716\n",
      "Epoch 3/15\n",
      "3780/3780 [==============================] - 45s 12ms/step - loss: 1.0806 - acc: 0.6114 - val_loss: 0.8458 - val_acc: 0.6981\n",
      "Epoch 4/15\n",
      "3780/3780 [==============================] - 45s 12ms/step - loss: 0.6984 - acc: 0.7444 - val_loss: 0.5441 - val_acc: 0.8136\n",
      "Epoch 5/15\n",
      "3780/3780 [==============================] - 45s 12ms/step - loss: 0.4894 - acc: 0.8317 - val_loss: 0.4373 - val_acc: 0.8432\n",
      "Epoch 6/15\n",
      "3780/3780 [==============================] - 45s 12ms/step - loss: 0.3927 - acc: 0.8632 - val_loss: 0.3958 - val_acc: 0.8605\n",
      "Epoch 7/15\n",
      "3780/3780 [==============================] - 45s 12ms/step - loss: 0.2417 - acc: 0.9153 - val_loss: 0.4007 - val_acc: 0.8611\n",
      "Epoch 8/15\n",
      "3780/3780 [==============================] - 44s 12ms/step - loss: 0.2145 - acc: 0.9230 - val_loss: 0.3760 - val_acc: 0.8759\n",
      "Epoch 9/15\n",
      "3780/3780 [==============================] - 44s 12ms/step - loss: 0.1324 - acc: 0.9542 - val_loss: 0.5737 - val_acc: 0.8241\n",
      "Epoch 10/15\n",
      "3780/3780 [==============================] - 44s 12ms/step - loss: 0.1542 - acc: 0.9487 - val_loss: 0.2145 - val_acc: 0.9315\n",
      "Epoch 11/15\n",
      "3780/3780 [==============================] - 44s 12ms/step - loss: 0.0768 - acc: 0.9757 - val_loss: 0.2142 - val_acc: 0.9315\n",
      "Epoch 12/15\n",
      "3780/3780 [==============================] - 44s 12ms/step - loss: 0.0557 - acc: 0.9815 - val_loss: 0.2307 - val_acc: 0.9278\n",
      "Epoch 13/15\n",
      "3780/3780 [==============================] - 44s 12ms/step - loss: 0.0619 - acc: 0.9802 - val_loss: 0.2436 - val_acc: 0.9259\n",
      "Epoch 14/15\n",
      "3780/3780 [==============================] - 43s 12ms/step - loss: 0.0516 - acc: 0.9836 - val_loss: 0.1740 - val_acc: 0.9494\n",
      "Epoch 15/15\n",
      "3780/3780 [==============================] - 43s 12ms/step - loss: 0.0294 - acc: 0.9918 - val_loss: 0.2603 - val_acc: 0.9284\n"
     ]
    }
   ],
   "source": [
    "history_ALexNet = ALexNet_no_aug.fit(x_train,y_train,epochs=15,validation_data=(x_test,y_test))"
   ]
  },
  {
   "cell_type": "code",
   "execution_count": 15,
   "metadata": {},
   "outputs": [
    {
     "name": "stdout",
     "output_type": "stream",
     "text": [
      "Epoch 1/15\n",
      "756/756 [==============================] - 140s 185ms/step - loss: 2.7051 - acc: 0.1042 - val_loss: 2.0193 - val_acc: 0.2784: 2.7147 - \n",
      "Epoch 2/15\n",
      "756/756 [==============================] - 140s 186ms/step - loss: 1.6316 - acc: 0.3791 - val_loss: 1.0538 - val_acc: 0.5568\n",
      "Epoch 3/15\n",
      "756/756 [==============================] - 151s 200ms/step - loss: 0.9045 - acc: 0.6526 - val_loss: 0.3892 - val_acc: 0.8623\n",
      "Epoch 4/15\n",
      "756/756 [==============================] - 150s 198ms/step - loss: 0.5568 - acc: 0.7910 - val_loss: 0.2616 - val_acc: 0.9000\n",
      "Epoch 5/15\n",
      "756/756 [==============================] - 150s 198ms/step - loss: 0.4009 - acc: 0.8619 - val_loss: 0.1950 - val_acc: 0.9340\n",
      "Epoch 6/15\n",
      "756/756 [==============================] - 149s 198ms/step - loss: 0.3354 - acc: 0.8839 - val_loss: 0.1028 - val_acc: 0.9679\n",
      "Epoch 7/15\n",
      "756/756 [==============================] - 147s 194ms/step - loss: 0.2612 - acc: 0.9156 - val_loss: 0.1732 - val_acc: 0.9333\n",
      "Epoch 8/15\n",
      "756/756 [==============================] - 145s 192ms/step - loss: 0.2258 - acc: 0.9259 - val_loss: 0.0894 - val_acc: 0.9679\n",
      "Epoch 9/15\n",
      "756/756 [==============================] - 147s 195ms/step - loss: 0.1921 - acc: 0.9362 - val_loss: 0.0709 - val_acc: 0.9759\n",
      "Epoch 10/15\n",
      "756/756 [==============================] - 144s 190ms/step - loss: 0.1897 - acc: 0.9397 - val_loss: 0.0540 - val_acc: 0.9821\n",
      "Epoch 11/15\n",
      "756/756 [==============================] - 143s 189ms/step - loss: 0.1738 - acc: 0.9442 - val_loss: 0.0928 - val_acc: 0.9630\n",
      "Epoch 12/15\n",
      "756/756 [==============================] - 143s 189ms/step - loss: 0.1451 - acc: 0.9548 - val_loss: 0.0604 - val_acc: 0.9765\n",
      "Epoch 13/15\n",
      "756/756 [==============================] - 143s 189ms/step - loss: 0.1496 - acc: 0.9524 - val_loss: 0.0310 - val_acc: 0.9920\n",
      "Epoch 14/15\n",
      "756/756 [==============================] - 144s 191ms/step - loss: 0.1245 - acc: 0.9601 - val_loss: 0.0396 - val_acc: 0.9864\n",
      "Epoch 15/15\n",
      "756/756 [==============================] - 2257s 3s/step - loss: 0.1240 - acc: 0.9593 - val_loss: 0.0284 - val_acc: 0.9864\n"
     ]
    }
   ],
   "source": [
    "history_ALexNet_Aug = ALexNet_Aug.fit(data_test,validation_data=(x_test,y_test),\n",
    "          steps_per_epoch=len(x_train)/5, epochs=15)"
   ]
  },
  {
   "cell_type": "code",
   "execution_count": 16,
   "metadata": {},
   "outputs": [
    {
     "data": {
      "image/png": "[encoded data removed]",
      "text/plain": [
       "<Figure size 432x288 with 1 Axes>"
      ]
     },
     "metadata": {
      "needs_background": "light"
     },
     "output_type": "display_data"
    },
    {
     "data": {
      "image/png": "[encoded data removed]",
      "text/plain": [
       "<Figure size 432x288 with 1 Axes>"
      ]
     },
     "metadata": {
      "needs_background": "light"
     },
     "output_type": "display_data"
    }
   ],
   "source": [
    "import matplotlib.pyplot as plt\n",
    "from random import randint\n",
    "import matplotlib.pyplot as plt\n",
    "plt.plot(history_ALexNet_Aug.history['val_acc'])\n",
    "plt.plot(history_ALexNet.history['val_acc'])\n",
    "plt.title('Alexnet Accuracy')\n",
    "plt.ylabel('Accuracy')\n",
    "plt.xlabel('Epoch')\n",
    "plt.legend(['with aug', 'without aug'], loc='upper left')\n",
    "plt.show()\n",
    "\n",
    "plt.plot(history_ALexNet_Aug.history['val_loss'])\n",
    "plt.plot(history_ALexNet.history['val_loss'])\n",
    "plt.title('Alexnet Loss')\n",
    "plt.ylabel('Loss')\n",
    "plt.xlabel('Epoch')\n",
    "plt.legend(['with aug', 'without aug'], loc='upper left')\n",
    "plt.show()"
   ]
  },
  {
   "cell_type": "markdown",
   "metadata": {},
   "source": [
    "### 3. VGG16"
   ]
  },
  {
   "cell_type": "code",
   "execution_count": 23,
   "metadata": {},
   "outputs": [
    {
     "name": "stdout",
     "output_type": "stream",
     "text": [
      "Model: \"sequential_10\"\n",
      "_________________________________________________________________\n",
      "Layer (type)                 Output Shape              Param #   \n",
      "=================================================================\n",
      "conv2d_64 (Conv2D)           (None, 64, 64, 64)        1792      \n",
      "_________________________________________________________________\n",
      "conv2d_65 (Conv2D)           (None, 64, 64, 64)        36928     \n",
      "_________________________________________________________________\n",
      "max_pooling2d_31 (MaxPooling (None, 32, 32, 64)        0         \n",
      "_________________________________________________________________\n",
      "conv2d_66 (Conv2D)           (None, 32, 32, 128)       73856     \n",
      "_________________________________________________________________\n",
      "conv2d_67 (Conv2D)           (None, 32, 32, 128)       147584    \n",
      "_________________________________________________________________\n",
      "max_pooling2d_32 (MaxPooling (None, 16, 16, 128)       0         \n",
      "_________________________________________________________________\n",
      "conv2d_68 (Conv2D)           (None, 16, 16, 256)       295168    \n",
      "_________________________________________________________________\n",
      "conv2d_69 (Conv2D)           (None, 16, 16, 256)       590080    \n",
      "_________________________________________________________________\n",
      "conv2d_70 (Conv2D)           (None, 16, 16, 256)       590080    \n",
      "_________________________________________________________________\n",
      "max_pooling2d_33 (MaxPooling (None, 8, 8, 256)         0         \n",
      "_________________________________________________________________\n",
      "conv2d_71 (Conv2D)           (None, 8, 8, 512)         1180160   \n",
      "_________________________________________________________________\n",
      "conv2d_72 (Conv2D)           (None, 8, 8, 512)         2359808   \n",
      "_________________________________________________________________\n",
      "conv2d_73 (Conv2D)           (None, 8, 8, 512)         2359808   \n",
      "_________________________________________________________________\n",
      "max_pooling2d_34 (MaxPooling (None, 4, 4, 512)         0         \n",
      "_________________________________________________________________\n",
      "conv2d_74 (Conv2D)           (None, 4, 4, 512)         2359808   \n",
      "_________________________________________________________________\n",
      "conv2d_75 (Conv2D)           (None, 4, 4, 512)         2359808   \n",
      "_________________________________________________________________\n",
      "conv2d_76 (Conv2D)           (None, 4, 4, 512)         2359808   \n",
      "_________________________________________________________________\n",
      "max_pooling2d_35 (MaxPooling (None, 2, 2, 512)         0         \n",
      "_________________________________________________________________\n",
      "flatten_10 (Flatten)         (None, 2048)              0         \n",
      "_________________________________________________________________\n",
      "dense_22 (Dense)             (None, 1024)              2098176   \n",
      "_________________________________________________________________\n",
      "dropout_7 (Dropout)          (None, 1024)              0         \n",
      "_________________________________________________________________\n",
      "dense_23 (Dense)             (None, 18)                18450     \n",
      "=================================================================\n",
      "Total params: 16,831,314\n",
      "Trainable params: 16,831,314\n",
      "Non-trainable params: 0\n",
      "_________________________________________________________________\n"
     ]
    }
   ],
   "source": [
    "import keras \n",
    "from keras.models import Sequential\n",
    "from keras.layers import Conv2D, Dense, MaxPool2D, Dropout, Flatten,MaxPooling2D\n",
    "from keras.optimizers import Adam\n",
    "from keras.preprocessing.image import ImageDataGenerator\n",
    "local_weights_file = 'D:/Belajar/skripsi/ngalegena/pretrained/vgg16_weights_tf_dim_ordering_tf_kernels_notop.h5'\n",
    "def modelVgg_16():\n",
    "    model = Sequential()\n",
    "    model.add(Conv2D(filters=64, kernel_size=(3,3), padding=\"same\", activation=\"relu\", input_shape=(64, 64, 3)))\n",
    "    model.add(Conv2D(filters=64, kernel_size=(3,3), padding=\"same\", activation=\"relu\"))\n",
    "    model.add(MaxPool2D(strides=2))\n",
    "    \n",
    "    model.add(Conv2D(filters=128, kernel_size=(3,3), padding=\"same\", activation=\"relu\"))\n",
    "    model.add(Conv2D(filters=128, kernel_size=(3,3), padding=\"same\", activation=\"relu\"))\n",
    "    model.add(MaxPool2D(strides=2))\n",
    "    \n",
    "    model.add(Conv2D(filters=256, kernel_size=(3,3), padding=\"same\", activation=\"relu\"))\n",
    "    model.add(Conv2D(filters=256, kernel_size=(3,3), padding=\"same\", activation=\"relu\"))\n",
    "    model.add(Conv2D(filters=256, kernel_size=(3,3), padding=\"same\", activation=\"relu\"))\n",
    "    model.add(MaxPool2D(strides=2))\n",
    "    \n",
    "    model.add(Conv2D(filters=512, kernel_size=(3,3), padding=\"same\", activation=\"relu\"))\n",
    "    model.add(Conv2D(filters=512, kernel_size=(3,3), padding=\"same\", activation=\"relu\"))\n",
    "    model.add(Conv2D(filters=512, kernel_size=(3,3), padding=\"same\", activation=\"relu\"))\n",
    "    model.add(MaxPool2D(strides=2))\n",
    "    model.add(Conv2D(filters=512, kernel_size=(3,3), padding=\"same\", activation=\"relu\"))\n",
    "    model.add(Conv2D(filters=512, kernel_size=(3,3), padding=\"same\", activation=\"relu\"))\n",
    "    model.add(Conv2D(filters=512, kernel_size=(3,3), padding=\"same\", activation=\"relu\"))\n",
    "    model.add(MaxPool2D(strides=2))\n",
    "    \n",
    "    model.load_weights(local_weights_file)\n",
    "    for layer in model.layers:\n",
    "        layer.trainable = False\n",
    "    model.add(Flatten())\n",
    "    model.add(Dense(1024, activation=\"relu\"))\n",
    "    model.add(Dropout(0.5))\n",
    "    model.add(Dense(18, activation='softmax'))\n",
    "    \n",
    "    model.compile(optimizer = Adam(lr=0.0001), \n",
    "              loss = 'sparse_categorical_crossentropy', \n",
    "              metrics = ['acc'])\n",
    "    return model\n",
    "\n",
    "modelVgg16().summary()"
   ]
  },
  {
   "cell_type": "code",
   "execution_count": 24,
   "metadata": {},
   "outputs": [],
   "source": [
    "Vgg_Aug = modelVgg_16()\n",
    "Vgg_without_Aug = modelVgg_16()"
   ]
  },
  {
   "cell_type": "code",
   "execution_count": 25,
   "metadata": {},
   "outputs": [
    {
     "name": "stdout",
     "output_type": "stream",
     "text": [
      "Train on 3780 samples, validate on 1620 samples\n",
      "Epoch 1/15\n",
      "3780/3780 [==============================] - 113s 30ms/step - loss: 2.5726 - acc: 0.2267 - val_loss: 2.0138 - val_acc: 0.6222\n",
      "Epoch 2/15\n",
      "3780/3780 [==============================] - 113s 30ms/step - loss: 1.8020 - acc: 0.5532 - val_loss: 1.4812 - val_acc: 0.7543\n",
      "Epoch 3/15\n",
      "3780/3780 [==============================] - 114s 30ms/step - loss: 1.3540 - acc: 0.7013 - val_loss: 1.1359 - val_acc: 0.8148\n",
      "Epoch 4/15\n",
      "3780/3780 [==============================] - 114s 30ms/step - loss: 1.0922 - acc: 0.7524 - val_loss: 0.9185 - val_acc: 0.8290\n",
      "Epoch 5/15\n",
      "3780/3780 [==============================] - 113s 30ms/step - loss: 0.9077 - acc: 0.7937 - val_loss: 0.7623 - val_acc: 0.8685\n",
      "Epoch 6/15\n",
      "3780/3780 [==============================] - 113s 30ms/step - loss: 0.7813 - acc: 0.8233 - val_loss: 0.6617 - val_acc: 0.8864\n",
      "Epoch 7/15\n",
      "3780/3780 [==============================] - 116s 31ms/step - loss: 0.6856 - acc: 0.8444 - val_loss: 0.5822 - val_acc: 0.9000\n",
      "Epoch 8/15\n",
      "3780/3780 [==============================] - 114s 30ms/step - loss: 0.5952 - acc: 0.8683 - val_loss: 0.5085 - val_acc: 0.9093\n",
      "Epoch 9/15\n",
      "3780/3780 [==============================] - 113s 30ms/step - loss: 0.5333 - acc: 0.8825 - val_loss: 0.4542 - val_acc: 0.9204\n",
      "Epoch 10/15\n",
      "3780/3780 [==============================] - 115s 30ms/step - loss: 0.4883 - acc: 0.8910 - val_loss: 0.4081 - val_acc: 0.9278\n",
      "Epoch 11/15\n",
      "3780/3780 [==============================] - 114s 30ms/step - loss: 0.4414 - acc: 0.9019 - val_loss: 0.3784 - val_acc: 0.9290\n",
      "Epoch 12/15\n",
      "3780/3780 [==============================] - 114s 30ms/step - loss: 0.4035 - acc: 0.9164 - val_loss: 0.3446 - val_acc: 0.9377\n",
      "Epoch 13/15\n",
      "3780/3780 [==============================] - 113s 30ms/step - loss: 0.3680 - acc: 0.9241 - val_loss: 0.3139 - val_acc: 0.9420\n",
      "Epoch 14/15\n",
      "3780/3780 [==============================] - 114s 30ms/step - loss: 0.3401 - acc: 0.9262 - val_loss: 0.2984 - val_acc: 0.9426\n",
      "Epoch 15/15\n",
      "3780/3780 [==============================] - 119s 32ms/step - loss: 0.3142 - acc: 0.9283 - val_loss: 0.2833 - val_acc: 0.9420\n"
     ]
    }
   ],
   "source": [
    "history_Vgg = Vgg_without_Aug.fit(x_train,y_train,epochs=15,validation_data=(x_test,y_test))"
   ]
  },
  {
   "cell_type": "code",
   "execution_count": 26,
   "metadata": {},
   "outputs": [
    {
     "name": "stdout",
     "output_type": "stream",
     "text": [
      "Epoch 1/15\n",
      "756/756 [==============================] - 155s 205ms/step - loss: 2.2311 - acc: 0.3365 - val_loss: 1.4881 - val_acc: 0.6765\n",
      "Epoch 2/15\n",
      "756/756 [==============================] - 155s 206ms/step - loss: 1.3831 - acc: 0.6090 - val_loss: 0.9382 - val_acc: 0.8241\n",
      "Epoch 3/15\n",
      "756/756 [==============================] - 154s 204ms/step - loss: 1.0377 - acc: 0.7021 - val_loss: 0.6794 - val_acc: 0.8827\n",
      "Epoch 4/15\n",
      "756/756 [==============================] - 166s 220ms/step - loss: 0.8595 - acc: 0.7561 - val_loss: 0.5540 - val_acc: 0.8920\n",
      "Epoch 5/15\n",
      "756/756 [==============================] - 165s 218ms/step - loss: 0.7335 - acc: 0.7841 - val_loss: 0.4451 - val_acc: 0.9210\n",
      "Epoch 6/15\n",
      "756/756 [==============================] - 159s 211ms/step - loss: 0.6214 - acc: 0.8188 - val_loss: 0.3903 - val_acc: 0.9185\n",
      "Epoch 7/15\n",
      "756/756 [==============================] - 152s 201ms/step - loss: 0.5501 - acc: 0.8426 - val_loss: 0.3326 - val_acc: 0.9309\n",
      "Epoch 8/15\n",
      "756/756 [==============================] - 163s 215ms/step - loss: 0.4912 - acc: 0.8606 - val_loss: 0.2862 - val_acc: 0.9438\n",
      "Epoch 9/15\n",
      "756/756 [==============================] - 155s 205ms/step - loss: 0.4441 - acc: 0.8680 - val_loss: 0.2917 - val_acc: 0.9247\n",
      "Epoch 10/15\n",
      "756/756 [==============================] - 146s 193ms/step - loss: 0.4085 - acc: 0.8796 - val_loss: 0.2394 - val_acc: 0.9519\n",
      "Epoch 11/15\n",
      "756/756 [==============================] - 148s 195ms/step - loss: 0.3943 - acc: 0.8847 - val_loss: 0.2329 - val_acc: 0.9463\n",
      "Epoch 12/15\n",
      "756/756 [==============================] - 147s 194ms/step - loss: 0.3453 - acc: 0.8960 - val_loss: 0.2235 - val_acc: 0.9438\n",
      "Epoch 13/15\n",
      "756/756 [==============================] - 147s 194ms/step - loss: 0.3365 - acc: 0.9000 - val_loss: 0.2279 - val_acc: 0.9475\n",
      "Epoch 14/15\n",
      "756/756 [==============================] - 164s 217ms/step - loss: 0.3125 - acc: 0.9040 - val_loss: 0.2120 - val_acc: 0.9438\n",
      "Epoch 15/15\n",
      "756/756 [==============================] - 168s 222ms/step - loss: 0.2933 - acc: 0.9153 - val_loss: 0.1630 - val_acc: 0.9611\n"
     ]
    }
   ],
   "source": [
    "history_Vgg_Aug = Vgg_Aug.fit(data_test,validation_data=(x_test,y_test),\n",
    "          steps_per_epoch=len(x_train)/5, epochs=15)"
   ]
  },
  {
   "cell_type": "code",
   "execution_count": 19,
   "metadata": {},
   "outputs": [
    {
     "data": {
      "image/png": "[encoded data removed]",
      "text/plain": [
       "<Figure size 432x288 with 1 Axes>"
      ]
     },
     "metadata": {
      "needs_background": "light"
     },
     "output_type": "display_data"
    },
    {
     "data": {
      "image/png": "[encoded data removed]",
      "text/plain": [
       "<Figure size 432x288 with 1 Axes>"
      ]
     },
     "metadata": {
      "needs_background": "light"
     },
     "output_type": "display_data"
    }
   ],
   "source": [
    "import matplotlib.pyplot as plt\n",
    "from random import randint\n",
    "import matplotlib.pyplot as plt\n",
    "plt.plot(history_Vgg_Aug.history['val_acc'])\n",
    "plt.plot(history_Vgg .history['val_acc'])\n",
    "plt.title('Vgg-16 Accuracy')\n",
    "plt.ylabel('Accuracy')\n",
    "plt.xlabel('Epoch')\n",
    "plt.legend(['with aug', 'without aug'], loc='upper left')\n",
    "plt.show()\n",
    "\n",
    "plt.plot(history_Vgg_Aug.history['val_loss'])\n",
    "plt.plot(history_Vgg .history['val_loss'])\n",
    "plt.title('Vgg-16 loss')\n",
    "plt.ylabel('Loss')\n",
    "plt.xlabel('Epoch')\n",
    "plt.legend(['with aug', 'without aug'], loc='upper left')\n",
    "plt.show()"
   ]
  },
  {
   "cell_type": "code",
   "execution_count": null,
   "metadata": {},
   "outputs": [],
   "source": []
  }
 ],
 "metadata": {
  "kernelspec": {
   "display_name": "skripsi",
   "language": "python",
   "name": "skripsi"
  },
  "language_info": {
   "codemirror_mode": {
    "name": "ipython",
    "version": 3
   },
   "file_extension": ".py",
   "mimetype": "text/x-python",
   "name": "python",
   "nbconvert_exporter": "python",
   "pygments_lexer": "ipython3",
   "version": "3.6.10"
  }
 },
 "nbformat": 4,
 "nbformat_minor": 4
}
