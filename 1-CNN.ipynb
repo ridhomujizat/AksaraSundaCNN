{
 "cells": [
  {
   "cell_type": "code",
   "execution_count": 24,
   "metadata": {},
   "outputs": [],
   "source": [
    "import os\n",
    "import cv2\n",
    "import numpy as np\n",
    "import pandas as pd"
   ]
  },
  {
   "cell_type": "code",
   "execution_count": 25,
   "metadata": {},
   "outputs": [],
   "source": [
    "def get_image(directory):\n",
    "    Image = []\n",
    "    Labels = []\n",
    "    label = 0\n",
    "    \n",
    "    for labels in os.listdir(directory):\n",
    "        if labels == 'ka':\n",
    "            label = 0\n",
    "        elif labels == 'ca':\n",
    "            label = 1\n",
    "        elif labels == 'ta':\n",
    "            label = 2\n",
    "        elif labels == 'pa':\n",
    "            label = 3\n",
    "        elif labels == 'ya':\n",
    "            label = 4\n",
    "        elif labels == 'wa':\n",
    "            label = 5\n",
    "        elif labels == 'ga':\n",
    "            label = 6\n",
    "        elif labels == 'ja':\n",
    "            label = 7\n",
    "        elif labels == 'da':\n",
    "            label = 8\n",
    "        elif labels == 'ba':\n",
    "            label = 9\n",
    "        elif labels == 'ra':\n",
    "            label = 10\n",
    "        elif labels == 'sa':\n",
    "            label = 11\n",
    "        elif labels == 'nga':\n",
    "            label = 12\n",
    "        elif labels == 'nya':\n",
    "            label = 13\n",
    "        elif labels == 'na':\n",
    "            label = 14\n",
    "        elif labels == 'ma':\n",
    "            label = 15\n",
    "        elif labels == 'la':\n",
    "            label = 16\n",
    "        elif labels== 'ha':\n",
    "            label = 17\n",
    "            \n",
    "        for image_file in os.listdir(directory+labels):\n",
    "            image = cv2.imread(directory+labels+r'/'+image_file)\n",
    "            image = cv2.resize(image,(48,48))\n",
    "            \n",
    "            Image.append(image)\n",
    "            Labels.append(label)\n",
    "            \n",
    "    return Image, Labels\n",
    "\n",
    "def get_classlabel(class_code):\n",
    "    labels = {0:'ka', 1:'ca', 3:'pa', 4:'ya', 5:'wa', 6:'ga', 7:'ja', 8:'da',\n",
    "              9:'ba', 10:'ra', 11:'sa', 12:'nga', 13:'nya', 14:'na', 15:'ma',\n",
    "              16:'la', 17:'ha'}\n",
    "    return labels[class_code]\n"
   ]
  },
  {
   "cell_type": "code",
   "execution_count": 10,
   "metadata": {},
   "outputs": [],
   "source": [
    "Images, Labels = get_image('train/')\n",
    "\n",
    "train_x = np.array(Images)\n",
    "train_y = np.array(Labels)"
   ]
  },
  {
   "cell_type": "code",
   "execution_count": 11,
   "metadata": {},
   "outputs": [
    {
     "name": "stdout",
     "output_type": "stream",
     "text": [
      "Shape of Images: (3780, 48, 48, 3)\n",
      "Shape of Labels: (3780,)\n"
     ]
    }
   ],
   "source": [
    "print(\"Shape of Images:\",train_x.shape)\n",
    "print(\"Shape of Labels:\",train_y.shape)"
   ]
  },
  {
   "cell_type": "code",
   "execution_count": 12,
   "metadata": {},
   "outputs": [
    {
     "data": {
      "text/plain": [
       "18"
      ]
     },
     "execution_count": 12,
     "metadata": {},
     "output_type": "execute_result"
    }
   ],
   "source": [
    "classes = np.unique(Labels)\n",
    "num_classes = len(classes)\n",
    "num_classes"
   ]
  },
  {
   "cell_type": "code",
   "execution_count": 16,
   "metadata": {},
   "outputs": [],
   "source": [
    "Images, Labels = get_image('test/')\n",
    "\n",
    "test_x = np.array(Images)\n",
    "test_y = np.array(Labels)"
   ]
  },
  {
   "cell_type": "code",
   "execution_count": 17,
   "metadata": {},
   "outputs": [
    {
     "name": "stdout",
     "output_type": "stream",
     "text": [
      "Shape of Images: (1620, 48, 48, 3)\n",
      "Shape of Labels: (1620,)\n"
     ]
    }
   ],
   "source": [
    "print(\"Shape of Images:\",test_x.shape)\n",
    "print(\"Shape of Labels:\",test_y.shape)"
   ]
  },
  {
   "cell_type": "code",
   "execution_count": 18,
   "metadata": {},
   "outputs": [
    {
     "data": {
      "text/plain": [
       "((3780, 48, 48, 3), (1620, 48, 48, 3))"
      ]
     },
     "execution_count": 18,
     "metadata": {},
     "output_type": "execute_result"
    }
   ],
   "source": [
    "train_x.shape,test_x.shape"
   ]
  },
  {
   "cell_type": "code",
   "execution_count": 19,
   "metadata": {},
   "outputs": [],
   "source": [
    "# Normalise the data and change data type\n",
    "train_x = train_x / 255.\n",
    "test_x = test_x / 255.\n",
    "train_x = train_x.astype('float32')\n",
    "test_x = test_x.astype('float32')"
   ]
  },
  {
   "cell_type": "code",
   "execution_count": 22,
   "metadata": {},
   "outputs": [
    {
     "name": "stderr",
     "output_type": "stream",
     "text": [
      "Using TensorFlow backend.\n"
     ]
    }
   ],
   "source": [
    "# Converting Labels to one hot encoded format\n",
    "from keras.utils import to_categorical\n",
    "\n",
    "train_y_one_hot = to_categorical(train_y)\n",
    "test_y_one_hot = to_categorical(test_y)"
   ]
  },
  {
   "cell_type": "code",
   "execution_count": 28,
   "metadata": {},
   "outputs": [],
   "source": [
    "from sklearn.model_selection import train_test_split\n",
    "train_X,valid_X,train_label,valid_label = train_test_split(train_X,\n",
    "                                                           train_y_one_hot,\n",
    "                                                           test_size=0.2,\n",
    "                                                           random_state=13\n",
    "                                                           )"
   ]
  },
  {
   "cell_type": "code",
   "execution_count": 29,
   "metadata": {},
   "outputs": [
    {
     "data": {
      "text/plain": [
       "((3024, 48, 48, 3), (756, 48, 48, 3), (3024, 18), (756, 18))"
      ]
     },
     "execution_count": 29,
     "metadata": {},
     "output_type": "execute_result"
    }
   ],
   "source": [
    "# Finally check the data size whether it is as per tensorflow and VGG16 requirement\n",
    "train_X.shape,valid_X.shape,train_label.shape,valid_label.shape"
   ]
  },
  {
   "cell_type": "code",
   "execution_count": 30,
   "metadata": {},
   "outputs": [],
   "source": [
    "# Define the parameters for instanitaing VGG16 model. \n",
    "IMG_WIDTH = 48\n",
    "IMG_HEIGHT = 48\n",
    "IMG_DEPTH = 3\n",
    "BATCH_SIZE = 16"
   ]
  },
  {
   "cell_type": "code",
   "execution_count": 31,
   "metadata": {},
   "outputs": [
    {
     "ename": "NameError",
     "evalue": "name 'preprocess_input' is not defined",
     "output_type": "error",
     "traceback": [
      "\u001b[1;31m---------------------------------------------------------------------------\u001b[0m",
      "\u001b[1;31mNameError\u001b[0m                                 Traceback (most recent call last)",
      "\u001b[1;32m<ipython-input-31-ca947999ecb1>\u001b[0m in \u001b[0;36m<module>\u001b[1;34m\u001b[0m\n\u001b[0;32m      1\u001b[0m \u001b[1;31m# Preprocessing the input\u001b[0m\u001b[1;33m\u001b[0m\u001b[1;33m\u001b[0m\u001b[1;33m\u001b[0m\u001b[0m\n\u001b[1;32m----> 2\u001b[1;33m \u001b[0mtrain_x\u001b[0m \u001b[1;33m=\u001b[0m \u001b[0mpreprocess_input\u001b[0m\u001b[1;33m(\u001b[0m\u001b[0mtrain_x\u001b[0m\u001b[1;33m)\u001b[0m\u001b[1;33m\u001b[0m\u001b[1;33m\u001b[0m\u001b[0m\n\u001b[0m\u001b[0;32m      3\u001b[0m \u001b[0mvalid_x\u001b[0m \u001b[1;33m=\u001b[0m \u001b[0mpreprocess_input\u001b[0m\u001b[1;33m(\u001b[0m\u001b[0mvalid_x\u001b[0m\u001b[1;33m)\u001b[0m\u001b[1;33m\u001b[0m\u001b[1;33m\u001b[0m\u001b[0m\n\u001b[0;32m      4\u001b[0m \u001b[0mtest_x\u001b[0m  \u001b[1;33m=\u001b[0m \u001b[0mpreprocess_input\u001b[0m \u001b[1;33m(\u001b[0m\u001b[0mtest_x\u001b[0m\u001b[1;33m)\u001b[0m\u001b[1;33m\u001b[0m\u001b[1;33m\u001b[0m\u001b[0m\n",
      "\u001b[1;31mNameError\u001b[0m: name 'preprocess_input' is not defined"
     ]
    }
   ],
   "source": [
    "# Preprocessing the input \n",
    "train_x = preprocess_input(train_x)\n",
    "valid_x = preprocess_input(valid_x)\n",
    "test_x  = preprocess_input (test_x)"
   ]
  },
  {
   "cell_type": "code",
   "execution_count": null,
   "metadata": {},
   "outputs": [],
   "source": []
  },
  {
   "cell_type": "code",
   "execution_count": null,
   "metadata": {},
   "outputs": [],
   "source": []
  },
  {
   "cell_type": "code",
   "execution_count": 1,
   "metadata": {},
   "outputs": [
    {
     "ename": "NameError",
     "evalue": "name 'Images' is not defined",
     "output_type": "error",
     "traceback": [
      "\u001b[1;31m---------------------------------------------------------------------------\u001b[0m",
      "\u001b[1;31mNameError\u001b[0m                                 Traceback (most recent call last)",
      "\u001b[1;32m<ipython-input-1-1d9fe29dd6b8>\u001b[0m in \u001b[0;36m<module>\u001b[1;34m\u001b[0m\n\u001b[1;32m----> 1\u001b[1;33m \u001b[0mprint\u001b[0m\u001b[1;33m(\u001b[0m\u001b[1;34m\"Shape of Images:\"\u001b[0m\u001b[1;33m,\u001b[0m\u001b[0mImages\u001b[0m\u001b[1;33m.\u001b[0m\u001b[0mshape\u001b[0m\u001b[1;33m)\u001b[0m\u001b[1;33m\u001b[0m\u001b[1;33m\u001b[0m\u001b[0m\n\u001b[0m\u001b[0;32m      2\u001b[0m \u001b[0mprint\u001b[0m\u001b[1;33m(\u001b[0m\u001b[1;34m\"Shape of Labels:\"\u001b[0m\u001b[1;33m,\u001b[0m\u001b[0mLabels\u001b[0m\u001b[1;33m.\u001b[0m\u001b[0mshape\u001b[0m\u001b[1;33m)\u001b[0m\u001b[1;33m\u001b[0m\u001b[1;33m\u001b[0m\u001b[0m\n",
      "\u001b[1;31mNameError\u001b[0m: name 'Images' is not defined"
     ]
    }
   ],
   "source": [
    "import seaborn as sns\n",
    "import matplotlib.pyplot as plt\n",
    "plt.figure(figsize=(15,7))\n",
    "g = sns.countplot(Labels, palette=\"icefire\")\n",
    "plt.title(\"Number of digit classes\")"
   ]
  },
  {
   "cell_type": "code",
   "execution_count": null,
   "metadata": {},
   "outputs": [],
   "source": [
    "from random import randint\n",
    "def get_classlabel(class_code):\n",
    "    labels = {0:'ka', 1:'ca', 3:'pa', 4:'ya', 5:'wa', 6:'ga', 7:'ja', 8:'da',\n",
    "              9:'ba', 10:'ra', 11:'sa', 12:'nga', 13:'nya', 14:'na', 15:'ma',\n",
    "              16:'la', 17:'ha'}\n",
    "    return labels[class_code]\n",
    "\n",
    "\n",
    "\n",
    "fig = plt.figure()\n",
    "for i in range(16):\n",
    "    rnd_number = randint(0,len(Images))\n",
    "    plt.subplot(4,4,i+1)\n",
    "    plt.tight_layout()\n",
    "    plt.imshow(Images[rnd_number], cmap = 'gray', interpolation='none')\n",
    "    plt.title(\"Digit: {}\".format(get_classlabel(Labels[rnd_number])))\n",
    "    plt.xticks([])\n",
    "    plt.yticks([])"
   ]
  },
  {
   "cell_type": "code",
   "execution_count": null,
   "metadata": {},
   "outputs": [],
   "source": [
    "image_index = 1000\n",
    "print(get_classlabel(Labels[image_index]))\n",
    "plt.imshow(Images[image_index], cmap='Greys')"
   ]
  },
  {
   "cell_type": "code",
   "execution_count": null,
   "metadata": {},
   "outputs": [],
   "source": [
    "Images.dtype"
   ]
  },
  {
   "cell_type": "code",
   "execution_count": null,
   "metadata": {},
   "outputs": [],
   "source": []
  },
  {
   "cell_type": "code",
   "execution_count": null,
   "metadata": {},
   "outputs": [],
   "source": []
  },
  {
   "cell_type": "code",
   "execution_count": null,
   "metadata": {},
   "outputs": [],
   "source": []
  },
  {
   "cell_type": "code",
   "execution_count": null,
   "metadata": {},
   "outputs": [],
   "source": []
  },
  {
   "cell_type": "code",
   "execution_count": null,
   "metadata": {},
   "outputs": [],
   "source": []
  },
  {
   "cell_type": "code",
   "execution_count": null,
   "metadata": {},
   "outputs": [],
   "source": []
  },
  {
   "cell_type": "code",
   "execution_count": null,
   "metadata": {},
   "outputs": [],
   "source": []
  },
  {
   "cell_type": "code",
   "execution_count": null,
   "metadata": {},
   "outputs": [],
   "source": []
  },
  {
   "cell_type": "code",
   "execution_count": null,
   "metadata": {},
   "outputs": [],
   "source": []
  },
  {
   "cell_type": "code",
   "execution_count": null,
   "metadata": {},
   "outputs": [],
   "source": []
  },
  {
   "cell_type": "code",
   "execution_count": null,
   "metadata": {},
   "outputs": [],
   "source": []
  },
  {
   "cell_type": "code",
   "execution_count": null,
   "metadata": {},
   "outputs": [],
   "source": []
  },
  {
   "cell_type": "code",
   "execution_count": null,
   "metadata": {},
   "outputs": [],
   "source": []
  },
  {
   "cell_type": "code",
   "execution_count": null,
   "metadata": {},
   "outputs": [],
   "source": []
  }
 ],
 "metadata": {
  "kernelspec": {
   "display_name": "skripsi",
   "language": "python",
   "name": "skripsi"
  },
  "language_info": {
   "codemirror_mode": {
    "name": "ipython",
    "version": 3
   },
   "file_extension": ".py",
   "mimetype": "text/x-python",
   "name": "python",
   "nbconvert_exporter": "python",
   "pygments_lexer": "ipython3",
   "version": "3.6.10"
  }
 },
 "nbformat": 4,
 "nbformat_minor": 4
}
